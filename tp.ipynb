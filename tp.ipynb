{
 "cells": [
  {
   "cell_type": "markdown",
   "id": "e4da7ca0",
   "metadata": {},
   "source": [
    "### PUNTO 2.a, esto después lo cambiamos"
   ]
  },
  {
   "cell_type": "code",
   "execution_count": 4,
   "id": "4ad33da4",
   "metadata": {},
   "outputs": [
    {
     "name": "stdout",
     "output_type": "stream",
     "text": [
      "Ping google.com\n",
      "Respuesta de google.com: longitud = 42 bytes | RTT = 71.78 ms | TTL = 118\n"
     ]
    }
   ],
   "source": [
    "from scapy.all import *\n",
    "\n",
    "#Agrego\n",
    "from scapy.layers.inet import IP, ICMP\n",
    "import time\n",
    "##\n",
    "\n",
    "def ping(host):\n",
    "    print (f\"Ping {host}\")\n",
    "    \n",
    "    #1. Creamos el paquete ICMP\n",
    "    pkt = IP(dst=host)/ICMP()\n",
    "    \n",
    "    # Medimos el tiempo de envío\n",
    "    start_time = time.time()\n",
    "    \n",
    "    # Enviamos y recibimos el paquete (timeout de 2 segundos)\n",
    "    resp = sr1(pkt, timeout=2, verbose=0)\n",
    "    end_time = time.time()\n",
    "    \n",
    "    if resp is not None and ICMP in resp and resp[ICMP].type == 0:\n",
    "        # RTT (Round Trip Time)\n",
    "        rtt = (end_time - start_time) * 1000  # en milisegundos\n",
    "        \n",
    "        # Longitud del paquete\n",
    "        length = len(resp)\n",
    "    \n",
    "        # TTL (Time to Live)\n",
    "        ttl = resp.ttl\n",
    "        \n",
    "        print(f\"Respuesta de {host}: longitud = {length} bytes | RTT = {rtt:.2f} ms | TTL = {ttl}\")\n",
    "    else:\n",
    "        print(f\"No se recibió respuesta de {host}\")\n",
    "\n",
    "##\n",
    "\n",
    "ping(\"google.com\")"
   ]
  },
  {
   "cell_type": "markdown",
   "id": "932e0e2d",
   "metadata": {},
   "source": [
    "### PUNTO 2b"
   ]
  },
  {
   "cell_type": "code",
   "execution_count": 5,
   "id": "a2110c10",
   "metadata": {},
   "outputs": [
    {
     "name": "stdout",
     "output_type": "stream",
     "text": [
      "Enviando 20 paquetes ICMP a utdt.edu...\n",
      "\n",
      "[#1] No se recibió respuesta válida\n",
      "[#2] No se recibió respuesta válida\n",
      "[#3] No se recibió respuesta válida\n",
      "[#4] No se recibió respuesta válida\n",
      "[#5] No se recibió respuesta válida\n",
      "[#6] No se recibió respuesta válida\n",
      "[#7] No se recibió respuesta válida\n",
      "[#8] No se recibió respuesta válida\n",
      "[#9] No se recibió respuesta válida\n",
      "[#10] No se recibió respuesta válida\n",
      "[#11] No se recibió respuesta válida\n",
      "[#12] No se recibió respuesta válida\n",
      "[#13] No se recibió respuesta válida\n",
      "[#14] No se recibió respuesta válida\n",
      "[#15] No se recibió respuesta válida\n",
      "[#16] No se recibió respuesta válida\n",
      "[#17] No se recibió respuesta válida\n",
      "[#18] No se recibió respuesta válida\n",
      "[#19] No se recibió respuesta válida\n",
      "[#20] No se recibió respuesta válida\n",
      "\n",
      "Estadísticas finales:\n",
      "Paquetes enviados: 20\n",
      "Paquetes recibidos: 0\n",
      "Paquetes perdidos: 20\n",
      "Porcentaje de pérdida: 100.00%\n",
      "No se puede calcular RTTs: no hubo respuestas válidas\n"
     ]
    }
   ],
   "source": [
    "import statistics\n",
    "\n",
    "def ping_estadisticas(host, cantidad):\n",
    "    print(f\"Enviando {cantidad} paquetes ICMP a {host}...\\n\")\n",
    "    \n",
    "    enviados = 0\n",
    "    recibidos = 0\n",
    "    rtts = []\n",
    "\n",
    "    for i in range(cantidad):\n",
    "        pkt = IP(dst=host)/ICMP(id=0x1234, seq=i)\n",
    "        enviados += 1\n",
    "\n",
    "        start_time = time.time()\n",
    "        resp = sr1(pkt, timeout=2, verbose=0)\n",
    "        end_time = time.time()\n",
    "\n",
    "        if resp is not None and ICMP in resp and resp[ICMP].type == 0:\n",
    "            rtt = (end_time - start_time) * 1000  # RTT en ms\n",
    "            rtts.append(rtt)\n",
    "            recibidos += 1\n",
    "            length = len(resp)\n",
    "            ttl = resp.ttl\n",
    "            print(f\"[#{i+1}] Respuesta de {resp.src} | Longitud: {length} bytes | RTT: {rtt:.2f} ms | TTL: {ttl}\")\n",
    "        else:\n",
    "            print(f\"[#{i+1}] No se recibió respuesta válida\")\n",
    "\n",
    "    # Estadísticas\n",
    "    perdidos = enviados - recibidos\n",
    "    porcentaje_perdidos = (perdidos / enviados) * 100 if enviados > 0 else 0\n",
    "\n",
    "    print(\"\\nEstadísticas finales:\")\n",
    "    print(f\"Paquetes enviados: {enviados}\")\n",
    "    print(f\"Paquetes recibidos: {recibidos}\")\n",
    "    print(f\"Paquetes perdidos: {perdidos}\")\n",
    "    print(f\"Porcentaje de pérdida: {porcentaje_perdidos:.2f}%\")\n",
    "\n",
    "    if rtts:\n",
    "        print(f\"RTT promedio: {statistics.mean(rtts):.2f} ms\")\n",
    "        print(f\" RTT máximo: {max(rtts):.2f} ms\")\n",
    "        print(f\" RTT mínimo: {min(rtts):.2f} ms\")\n",
    "        if len(rtts) > 1:\n",
    "            print(f\"Desvío estándar del RTT: {statistics.stdev(rtts):.2f} ms\")\n",
    "        else:\n",
    "            print(\"Desvío estándar del RTT: No se puede calcular con un solo valor\")\n",
    "    else:\n",
    "        print(\"No se puede calcular RTTs: no hubo respuestas válidas\")\n",
    "\n",
    "\n",
    "###INPUT DE PAQUETES\n",
    "host_input = input(\"Ingresá el host al que querés hacer ping (ej: google.com): \")\n",
    "cantidad_input = int(input(\"¿Cuántos paquetes querés enviar?: \"))\n",
    "\n",
    "ping_estadisticas(host_input, cantidad_input)\n",
    "\n",
    "\n"
   ]
  }
 ],
 "metadata": {
  "kernelspec": {
   "display_name": "base",
   "language": "python",
   "name": "python3"
  },
  "language_info": {
   "codemirror_mode": {
    "name": "ipython",
    "version": 3
   },
   "file_extension": ".py",
   "mimetype": "text/x-python",
   "name": "python",
   "nbconvert_exporter": "python",
   "pygments_lexer": "ipython3",
   "version": "3.12.5"
  }
 },
 "nbformat": 4,
 "nbformat_minor": 5
}
