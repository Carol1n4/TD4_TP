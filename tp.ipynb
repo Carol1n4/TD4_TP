{
  "cells": [
    {
      "cell_type": "markdown",
      "id": "e4da7ca0",
      "metadata": {
        "id": "e4da7ca0"
      },
      "source": [
        "### Ejercicio 2a\n",
        "\n",
        "Implementamos la función `ping(host)` que envía un único paquete ICMP a un host determinado utilizando la biblioteca Scapy.  \n",
        "Para cada respuesta recibida, se muestra por terminal:\n",
        "\n",
        "- La longitud total del paquete recibido\n",
        "- El tiempo de ida y vuelta (RTT)\n",
        "- El valor TTL (Time-To-Live) del paquete\n",
        "\n",
        "Esto permite verificar la recepción correcta de la respuesta ICMP tipo 0 (echo reply), además de obtener información básica de conectividad y latencia con el host de destino."
      ]
    },
    {
      "cell_type": "code",
      "execution_count": null,
      "id": "4ad33da4",
      "metadata": {
        "colab": {
          "base_uri": "https://localhost:8080/"
        },
        "id": "4ad33da4",
        "outputId": "c4e67373-637a-466a-f752-87aee6e2d29a"
      },
      "outputs": [
        {
          "name": "stdout",
          "output_type": "stream",
          "text": [
            "Ping google.com\n",
            "Respuesta de google.com: longitud = 42 bytes | RTT = 22.43 ms | TTL = 119\n"
          ]
        }
      ],
      "source": [
        "from scapy.all import *\n",
        "\n",
        "#Agrego\n",
        "from scapy.layers.inet import IP, ICMP\n",
        "import time\n",
        "##\n",
        "\n",
        "def ping(host):\n",
        "    print (f\"Ping {host}\")\n",
        "\n",
        "    #Creamos el paquete ICMP\n",
        "    pkt = IP(dst=host)/ICMP()\n",
        "\n",
        "    # Medimos el tiempo de envío\n",
        "    start_time = time.time()\n",
        "\n",
        "    # Enviamos y recibimos el paquete (timeout de 2 segundos)\n",
        "    resp = sr1(pkt, timeout=2, verbose=0)\n",
        "    end_time = time.time()\n",
        "\n",
        "    if resp is not None and ICMP in resp and resp[ICMP].type == 0:\n",
        "        # RTT (Round Trip Time)\n",
        "        rtt = (end_time - start_time) * 1000\n",
        "\n",
        "        # Longitud de la respuesta\n",
        "        length = len(resp)\n",
        "\n",
        "        # Time to Live \n",
        "        ttl = resp.ttl\n",
        "\n",
        "        print(f\"Respuesta de {host}: longitud = {length} bytes | RTT = {rtt:.2f} ms | TTL = {ttl}\")\n",
        "    else:\n",
        "        print(f\"No se recibió respuesta de {host}\")\n",
        "\n",
        "ping(\"google.com\")"
      ]
    },
    {
      "cell_type": "markdown",
      "id": "932e0e2d",
      "metadata": {
        "id": "932e0e2d"
      },
      "source": [
        "### PUNTO 2b\n",
        "\n",
        "Desarrollamos la función `ping_estadisticas(host, cantidad)` que permite enviar múltiples paquetes ICMP a un host utilizando la biblioteca Scapy.  \n",
        "A partir de las respuestas recibidas, se calculan y muestran las siguientes estadísticas al finalizar el envío:\n",
        "\n",
        "- Cantidad de paquetes enviados  \n",
        "- Cantidad de paquetes recibidos  \n",
        "- Cantidad de paquetes perdidos  \n",
        "- Porcentaje de paquetes perdidos  \n",
        "- RTT promedio (Round Trip Time)  \n",
        "- RTT máximo  \n",
        "- RTT mínimo  \n",
        "- Desvío estándar del RTT (utilizando `statistics.stdev()` de Python)\n",
        "\n"
      ]
    },
    {
      "cell_type": "code",
      "execution_count": null,
      "id": "a2110c10",
      "metadata": {
        "colab": {
          "base_uri": "https://localhost:8080/"
        },
        "id": "a2110c10",
        "outputId": "c4797293-022e-4748-9239-cd0ca11ecd8d"
      },
      "outputs": [
        {
          "name": "stdout",
          "output_type": "stream",
          "text": [
            "Enviando 5 paquetes ICMP a utdt.edu...\n",
            "\n",
            "[#1] No se recibió respuesta válida\n",
            "[#2] No se recibió respuesta válida\n",
            "[#3] No se recibió respuesta válida\n",
            "[#4] No se recibió respuesta válida\n",
            "[#5] No se recibió respuesta válida\n",
            "\n",
            "Estadísticas finales:\n",
            "Paquetes enviados: 5\n",
            "Paquetes recibidos: 0\n",
            "Paquetes perdidos: 5\n",
            "Porcentaje de pérdida: 100.00%\n",
            "No se puede calcular RTTs: no hubo respuestas válidas\n"
          ]
        }
      ],
      "source": [
        "from scapy.all import *\n",
        "from scapy.layers.inet import IP, ICMP\n",
        "import socket \n",
        "import time\n",
        "import statistics\n",
        "\n",
        "def ping_estadisticas(host, cantidad):\n",
        "    print(f\"Enviando {cantidad} paquetes ICMP a {host}...\\n\")\n",
        "\n",
        "    enviados = 0\n",
        "    recibidos = 0\n",
        "    rtts = []\n",
        "\n",
        "\n",
        "# Bucle principal: se envían múltiples paquetes ICMP al host de destino\n",
        "# En cada iteración:\n",
        "# - Se valida que el host todavía pueda resolverse (por si cambia el DNS dinámicamente)\n",
        "# - Se construye y envía un paquete ICMP\n",
        "# - Se mide el RTT y se analiza si hubo respuesta válida\n",
        "    for i in range(cantidad): \n",
        "\n",
        "# Intentamos resolver el nombre del host a una dirección IP\n",
        "# (esto se hace en cada iteración por seguridad, en caso de que el DNS cambie durante las pruebas)\n",
        "        try:\n",
        "             ip_destino = socket.gethostbyname(host)\n",
        "        except socket.gaierror:\n",
        "            print(f\"No se pudo resolver el nombre {host}.\") \n",
        "            return\n",
        "\n",
        "    # Construimos el paquete ICMP con la dirección IP de destino\n",
        "        pkt = IP(dst=ip_destino)/ICMP()\n",
        "        enviados += 1\n",
        "\n",
        "    # Medimos el tiempo de envío\n",
        "        start_time = time.time()\n",
        "        resp = sr1(pkt, timeout=2, verbose=0)\n",
        "        end_time = time.time()\n",
        "\n",
        "        if resp is not None and ICMP in resp and resp[ICMP].type == 0:\n",
        "            rtt = (end_time - start_time) * 1000  # RTT en ms\n",
        "            rtts.append(rtt)\n",
        "            recibidos += 1\n",
        "            length = len(resp)\n",
        "            ttl = resp.ttl\n",
        "            print(f\"[#{i+1}] Respuesta de {resp.src} | Longitud: {length} bytes | RTT: {rtt:.2f} ms | TTL: {ttl}\")\n",
        "        else:\n",
        "            print(f\"[#{i+1}] No se recibió respuesta válida\")\n",
        "\n",
        "    # Estadísticas\n",
        "    perdidos = enviados - recibidos\n",
        "    porcentaje_perdidos = (perdidos / enviados) * 100 if enviados > 0 else 0\n",
        "\n",
        "    print(\"\\nEstadísticas finales:\")\n",
        "    print(f\"Paquetes enviados: {enviados}\")\n",
        "    print(f\"Paquetes recibidos: {recibidos}\")\n",
        "    print(f\"Paquetes perdidos: {perdidos}\")\n",
        "    print(f\"Porcentaje de pérdida: {porcentaje_perdidos:.2f}%\")\n",
        "\n",
        "    if rtts:\n",
        "        print(f\"RTT promedio: {statistics.mean(rtts):.2f} ms\")\n",
        "        print(f\" RTT máximo: {max(rtts):.2f} ms\")\n",
        "        print(f\" RTT mínimo: {min(rtts):.2f} ms\")\n",
        "        if len(rtts) > 1:\n",
        "            print(f\"Desvío estándar del RTT: {statistics.stdev(rtts):.2f} ms\")\n",
        "        else:\n",
        "            print(\"Desvío estándar del RTT: No se puede calcular con un solo valor\")\n",
        "    else:\n",
        "        print(\"No se puede calcular RTTs: no hubo respuestas válidas\")\n",
        "\n",
        "\n",
        "###INPUT DE PAQUETES\n",
        "host_input = input(\"Ingresá el host al que querés hacer ping (ej: google.com): \")\n",
        "cantidad_input = int(input(\"¿Cuántos paquetes querés enviar?: \"))\n",
        "\n",
        "ping_estadisticas(host_input, cantidad_input)\n"
      ]
    },
    {
      "cell_type": "markdown",
      "id": "1ea9fd3b",
      "metadata": {},
      "source": [
        "### Punto 2c"
      ]
    },
    {
      "cell_type": "code",
      "execution_count": null,
      "id": "00788b2e",
      "metadata": {},
      "outputs": [],
      "source": [
        "\n",
        "from scapy.all import *\n",
        "from scapy.layers.inet import IP, ICMP\n",
        "import time\n",
        "import statistics\n",
        "\n",
        "def enviar_ping(host, seq=0):\n",
        "    try:\n",
        "        ip_destino = socket.gethostbyname(host)\n",
        "    except socket.gaierror:\n",
        "        print(f\"[ERROR] No se pudo resolver el nombre {host}\")\n",
        "        return None, None\n",
        "\n",
        "    print(f\"Enviando ping a {host} | seq={seq}\")\n",
        "\n",
        "    # Armamos el paquete\n",
        "    pkt = IP(dst=host) / ICMP()\n",
        "\n",
        "    # Medimos el tiempo de envío\n",
        "    start_time = time.time()\n",
        "    resp = sr1(pkt, timeout=2, verbose=0)\n",
        "    end_time = time.time()\n",
        "\n",
        "    if resp is not None and ICMP in resp and resp[ICMP].type == 0:\n",
        "        rtt = (end_time - start_time) * 1000 \n",
        "        return resp, rtt\n",
        "    else:\n",
        "        return None, None\n",
        "\n",
        "def ping_estadisticas(host, cantidad):\n",
        "    print(f\"\\nPing a {host} ({cantidad} paquetes):\\n\")\n",
        "    enviados = 0\n",
        "    recibidos = 0\n",
        "    rtts = []\n",
        "\n",
        "    for i in range(cantidad):\n",
        "        enviados += 1\n",
        "        respuesta, rtt = enviar_ping(host, seq=i)\n",
        "\n",
        "        if respuesta:\n",
        "            recibidos += 1\n",
        "            rtts.append(rtt)\n",
        "            print(f\"[#{i+1}] Respuesta de {respuesta.src} | Longitud: {len(respuesta)} bytes | RTT: {rtt:.2f} ms | TTL: {respuesta.ttl}\")\n",
        "        else:\n",
        "            print(f\"[#{i+1}] No se recibió respuesta\")\n",
        "\n",
        "    perdidos = enviados - recibidos\n",
        "    perdida_pct = (perdidos / enviados) * 100 if enviados > 0 else 0\n",
        "\n",
        "    print(\"\\nEstadísticas:\")\n",
        "    print(f\"  Enviados: {enviados}\")\n",
        "    print(f\"  Recibidos: {recibidos}\")\n",
        "    print(f\"  Perdidos: {perdidos} ({perdida_pct:.2f}%)\")\n",
        "\n",
        "    if rtts:\n",
        "        print(f\"  RTT promedio: {statistics.mean(rtts):.2f} ms\")\n",
        "        print(f\"  RTT máx: {max(rtts):.2f} ms\")\n",
        "        print(f\"  RTT mín: {min(rtts):.2f} ms\")\n",
        "        if len(rtts) > 1:\n",
        "            print(f\"  Desvío estándar RTT: {statistics.stdev(rtts):.2f} ms\")\n",
        "        else:\n",
        "            print(\"  Desvío estándar RTT: No se puede calcular con un solo valor\")\n",
        "    else:\n",
        "        print(\"  No se pudo calcular RTTs: no hubo respuestas válidas\")\n",
        "\n",
        "# INPUT DE PAQUETES\n",
        "host = input(\"Ingresá el host (ej: google.com): \")\n",
        "cant = int(input(\"¿Cuántos paquetes querés enviar?: \"))\n",
        "\n",
        "ping_estadisticas(host, cant)"
      ]
    },
    {
      "cell_type": "markdown",
      "id": "a6-UejrJs2j6",
      "metadata": {
        "id": "a6-UejrJs2j6"
      },
      "source": [
        "## Punto 3\n",
        "\n",
        "Listamos todos los tipos de errores de ICMP de tipo 3\n",
        "\n",
        "\n",
        "Tipo 3 – Destination Unreachable (Destino inalcanzable):\n",
        "\n",
        "Código 0: Network unreachable\n",
        "\n",
        "Código 1: Host unreachable\n",
        "\n",
        "Código 2: Protocol unreachable\n",
        "\n",
        "Código 3: Port unreachable\n",
        "\n",
        "Código 4: Fragmentation needed and DF set\n",
        "\n",
        "Código 5: Source route failed\n",
        "\n",
        "Código 6: Destination network unknown\n",
        "\n",
        "Código 7: Destination host unknown\n",
        "\n",
        "Código 8: Source host isolated\n",
        "\n",
        "Código 9: Network administratively prohibited\n",
        "\n",
        "Código 10: Host administratively prohibited\n",
        "\n",
        "Código 11: Network unreachable for TOS\n",
        "\n",
        "Código 12: Host unreachable for TOS\n",
        "\n",
        "Código 13: Communication administratively prohibited\n",
        "\n",
        "Código 14: Host precedence violation\n",
        "\n",
        "Código 15: Precedence cutoff in effect\n",
        "\n",
        "\n",
        "Fuente: RFC 792 -> https://datatracker.ietf.org/doc/html/rfc792\n"
      ]
    },
    {
      "cell_type": "code",
      "execution_count": null,
      "id": "w0NyFcITs_bC",
      "metadata": {
        "colab": {
          "base_uri": "https://localhost:8080/"
        },
        "id": "w0NyFcITs_bC",
        "outputId": "ef6e87bd-2596-4e9f-fddb-bc03b88df816"
      },
      "outputs": [
        {
          "name": "stdout",
          "output_type": "stream",
          "text": [
            "Enviando 5 paquetes ICMP a instagram.com...\n",
            "\n"
          ]
        },
        {
          "name": "stderr",
          "output_type": "stream",
          "text": [
            "WARNING: MAC address to reach destination not found. Using broadcast.\n"
          ]
        },
        {
          "name": "stdout",
          "output_type": "stream",
          "text": [
            "[#1] No se recibió respuesta\n"
          ]
        },
        {
          "name": "stderr",
          "output_type": "stream",
          "text": [
            "WARNING: MAC address to reach destination not found. Using broadcast.\n"
          ]
        },
        {
          "name": "stdout",
          "output_type": "stream",
          "text": [
            "[#2] No se recibió respuesta\n"
          ]
        },
        {
          "name": "stderr",
          "output_type": "stream",
          "text": [
            "WARNING: MAC address to reach destination not found. Using broadcast.\n"
          ]
        },
        {
          "name": "stdout",
          "output_type": "stream",
          "text": [
            "[#3] No se recibió respuesta\n"
          ]
        },
        {
          "name": "stderr",
          "output_type": "stream",
          "text": [
            "WARNING: MAC address to reach destination not found. Using broadcast.\n"
          ]
        },
        {
          "name": "stdout",
          "output_type": "stream",
          "text": [
            "[#4] No se recibió respuesta\n"
          ]
        },
        {
          "name": "stderr",
          "output_type": "stream",
          "text": [
            "WARNING: MAC address to reach destination not found. Using broadcast.\n"
          ]
        },
        {
          "name": "stdout",
          "output_type": "stream",
          "text": [
            "[#5] No se recibió respuesta\n",
            "\n",
            "Estadísticas finales:\n",
            "Paquetes enviados: 5\n",
            "Paquetes recibidos: 0\n",
            "Paquetes perdidos: 5\n",
            "Porcentaje de pérdida: 100.00%\n",
            "No se puede calcular RTTs: no hubo respuestas válidas\n"
          ]
        }
      ],
      "source": [
        "from scapy.all import *\n",
        "from scapy.layers.inet import IP, ICMP\n",
        "import time\n",
        "import statistics\n",
        "import socket\n",
        "\n",
        "#errores icmp de tipo 3\n",
        "ICMP_DEST_UNREACH_CODES = {\n",
        "    0: \"Network unreachable\",\n",
        "    1: \"Host unreachable\",\n",
        "    2: \"Protocol unreachable\",\n",
        "    3: \"Port unreachable\",\n",
        "    4: \"Fragmentation needed and DF set\",\n",
        "    5: \"Source route failed\",\n",
        "    6: \"Destination network unknown\",\n",
        "    7: \"Destination host unknown\",\n",
        "    8: \"Source host isolated\",\n",
        "    9: \"Network administratively prohibited\",\n",
        "    10: \"Host administratively prohibited\",\n",
        "    11: \"Network unreachable for TOS\",\n",
        "    12: \"Host unreachable for TOS\",\n",
        "    13: \"Communication administratively prohibited\",\n",
        "    14: \"Host precedence violation\",\n",
        "    15: \"Precedence cutoff in effect\"\n",
        "}\n",
        "\n",
        "def ping_estadisticas(host, cantidad):\n",
        "    print(f\"Enviando {cantidad} paquetes ICMP a {host}...\\n\")\n",
        "\n",
        "    enviados = 0\n",
        "    recibidos = 0\n",
        "    rtts = []\n",
        "\n",
        "    # Resolución DNS usando Scapy\n",
        "    try:\n",
        "        ip_destino = socket.gethostbyname(host)\n",
        "    except Exception as e:\n",
        "        print(f\"Error de DNS: “Name not known”\")\n",
        "        return\n",
        "\n",
        "    for i in range(cantidad):\n",
        "        pkt = IP(dst=ip_destino)/ICMP()\n",
        "        enviados += 1\n",
        "\n",
        "        start_time = time.time()\n",
        "        resp = sr1(pkt, timeout=2, verbose=0)\n",
        "        end_time = time.time()\n",
        "\n",
        "        if resp is not None:\n",
        "            if ICMP in resp:\n",
        "                icmp_layer = resp[ICMP]\n",
        "                if icmp_layer.type == 0:\n",
        "                    rtt = (end_time - start_time) * 1000\n",
        "                    rtts.append(rtt)\n",
        "                    recibidos += 1\n",
        "                    print(f\"[#{i+1}] Respuesta de {resp.src} | Longitud: {len(resp)} bytes | RTT: {rtt:.2f} ms | TTL: {resp.ttl}\")\n",
        "                elif icmp_layer.type == 3:\n",
        "                    code = icmp_layer.code\n",
        "                    descripcion = ICMP_DEST_UNREACH_CODES.get(code, \"Código desconocido\")\n",
        "                    print(f\"[#{i+1}] ICMP Error: Destination Unreachable - {descripcion} (Código {code}) desde {resp.src}\")\n",
        "                else:\n",
        "                    print(f\"[#{i+1}] Recibido ICMP tipo {icmp_layer.type}, no es respuesta ni error manejado.\")\n",
        "            else:\n",
        "                print(f\"[#{i+1}] Paquete recibido sin capa ICMP\")\n",
        "        else:\n",
        "            print(f\"[#{i+1}] No se recibió respuesta\")\n",
        "\n",
        "    # Estadísticas\n",
        "    perdidos = enviados - recibidos\n",
        "    porcentaje_perdidos = (perdidos / enviados) * 100 if enviados > 0 else 0\n",
        "\n",
        "    print(\"\\nEstadísticas finales:\")\n",
        "    print(f\"Paquetes enviados: {enviados}\")\n",
        "    print(f\"Paquetes recibidos: {recibidos}\")\n",
        "    print(f\"Paquetes perdidos: {perdidos}\")\n",
        "    print(f\"Porcentaje de pérdida: {porcentaje_perdidos:.2f}%\")\n",
        "\n",
        "    if rtts:\n",
        "        print(f\"RTT promedio: {statistics.mean(rtts):.2f} ms\")\n",
        "        print(f\"RTT máximo: {max(rtts):.2f} ms\")\n",
        "        print(f\"RTT mínimo: {min(rtts):.2f} ms\")\n",
        "        if len(rtts) > 1:\n",
        "            print(f\"Desvío estándar del RTT: {statistics.stdev(rtts):.2f} ms\")\n",
        "        else:\n",
        "            print(\"Desvío estándar del RTT: No se puede calcular con un solo valor\")\n",
        "    else:\n",
        "        print(\"No se puede calcular RTTs: no hubo respuestas válidas\")\n",
        "\n",
        "# Entradas\n",
        "host_input = input(\"Ingresá el host al que querés hacer ping (ej: google.com): \")\n",
        "cantidad_input = int(input(\"¿Cuántos paquetes querés enviar?: \"))\n",
        "\n",
        "ping_estadisticas(host_input, cantidad_input)"
      ]
    },
    {
      "cell_type": "markdown",
      "id": "oIpxZYypxL1l",
      "metadata": {
        "id": "oIpxZYypxL1l"
      },
      "source": [
        "### Ejercicio 4\n",
        "Se realizó un test de conectividad utilizando la función `ping_estadisticas()` sobre 5 universidades ubicadas en distintos continentes. El objetivo fue observar la variación en el tiempo de ida y vuelta (RTT) en función de la ubicación geográfica del host.\n",
        "\n",
        "#### Universidades testeadas (una por continente):\n",
        "\n",
        "- **América del Sur**: Universidad Torcuato Di Tella (UTDT) — utdt.edu\n",
        "- **América del Norte**: MIT — web.mit.edu\n",
        "- **Europa**: Universidad de Oxford — ox.ac.uk\n",
        "- **Asia**: Universidad de Shanghai— en.sjtu.edu.cn\n",
        "- **Oceanía**: Universidad de Melbourne — unimelb.edu.au\n"
      ]
    },
    {
      "cell_type": "code",
      "execution_count": null,
      "id": "vhJ4NmqdxY1C",
      "metadata": {
        "colab": {
          "base_uri": "https://localhost:8080/",
          "height": 400
        },
        "id": "vhJ4NmqdxY1C",
        "outputId": "e0aafe24-6ef0-403f-ece9-31ef3c410110"
      },
      "outputs": [
        {
          "name": "stdout",
          "output_type": "stream",
          "text": [
            "RTT promedio a universidades por continente:\n",
            "\n",
            "América del Norte - web.mit.edu\n"
          ]
        },
        {
          "name": "stderr",
          "output_type": "stream",
          "text": [
            "WARNING: MAC address to reach destination not found. Using broadcast.\n",
            "WARNING: MAC address to reach destination not found. Using broadcast.\n",
            "WARNING: MAC address to reach destination not found. Using broadcast.\n",
            "WARNING: MAC address to reach destination not found. Using broadcast.\n",
            "WARNING: MAC address to reach destination not found. Using broadcast.\n"
          ]
        },
        {
          "name": "stdout",
          "output_type": "stream",
          "text": [
            "No se recibió respuesta válida\n",
            "\n",
            "América del Sur - utdt.edu\n"
          ]
        },
        {
          "name": "stderr",
          "output_type": "stream",
          "text": [
            "WARNING: MAC address to reach destination not found. Using broadcast.\n",
            "WARNING: MAC address to reach destination not found. Using broadcast.\n",
            "WARNING: MAC address to reach destination not found. Using broadcast.\n",
            "WARNING: MAC address to reach destination not found. Using broadcast.\n",
            "WARNING: MAC address to reach destination not found. Using broadcast.\n"
          ]
        },
        {
          "name": "stdout",
          "output_type": "stream",
          "text": [
            "No se recibió respuesta válida\n",
            "\n",
            "Europa - ox.ac.uk\n"
          ]
        },
        {
          "name": "stderr",
          "output_type": "stream",
          "text": [
            "WARNING: MAC address to reach destination not found. Using broadcast.\n",
            "WARNING: MAC address to reach destination not found. Using broadcast.\n",
            "WARNING: MAC address to reach destination not found. Using broadcast.\n",
            "WARNING: MAC address to reach destination not found. Using broadcast.\n",
            "WARNING: MAC address to reach destination not found. Using broadcast.\n"
          ]
        },
        {
          "name": "stdout",
          "output_type": "stream",
          "text": [
            "No se recibió respuesta válida\n",
            "\n",
            "Asia - en.sjtu.edu.cn\n"
          ]
        },
        {
          "name": "stderr",
          "output_type": "stream",
          "text": [
            "WARNING: MAC address to reach destination not found. Using broadcast.\n",
            "WARNING: MAC address to reach destination not found. Using broadcast.\n",
            "WARNING: MAC address to reach destination not found. Using broadcast.\n",
            "WARNING: MAC address to reach destination not found. Using broadcast.\n",
            "WARNING: MAC address to reach destination not found. Using broadcast.\n"
          ]
        },
        {
          "name": "stdout",
          "output_type": "stream",
          "text": [
            "No se recibió respuesta válida\n",
            "\n",
            "Oceanía - unimelb.edu.au\n"
          ]
        },
        {
          "name": "stderr",
          "output_type": "stream",
          "text": [
            "WARNING: MAC address to reach destination not found. Using broadcast.\n",
            "WARNING: MAC address to reach destination not found. Using broadcast.\n",
            "WARNING: MAC address to reach destination not found. Using broadcast.\n",
            "WARNING: MAC address to reach destination not found. Using broadcast.\n",
            "WARNING: MAC address to reach destination not found. Using broadcast.\n"
          ]
        },
        {
          "name": "stdout",
          "output_type": "stream",
          "text": [
            "No se recibió respuesta válida\n",
            "\n"
          ]
        }
      ],
      "source": [
        "from scapy.all import *\n",
        "import time\n",
        "\n",
        "def hacer_ping(host, count=4):\n",
        "    rtts = []\n",
        "    for i in range(count):\n",
        "        pkt = IP(dst=host)/ICMP()\n",
        "        start_time = time.time()\n",
        "        resp = sr1(pkt, timeout=2, verbose=0)\n",
        "        end_time = time.time()\n",
        "\n",
        "        if resp and ICMP in resp and resp[ICMP].type == 0:\n",
        "            rtt = (end_time - start_time) * 1000  # ms\n",
        "            rtts.append(rtt)\n",
        "    \n",
        "    if rtts:\n",
        "        return sum(rtts) / len(rtts)  # promedio\n",
        "    else:\n",
        "        return None\n",
        "    \n",
        "# Definimos las universidades por continente\n",
        "universidades = {\n",
        "    \"América del Norte\": \"web.mit.edu\",     #USA \n",
        "    \"América del Sur\": \"utdt.edu\",          #Argentina (UTDT)\n",
        "    \"Europa\": \"ox.ac.uk\",                   #Reino Unido (Oxford)\n",
        "    \"Asia\": \"en.sjtu.edu.cn\",               #Shanghai (SJTU)\n",
        "    \"Oceanía\": \"unimelb.edu.au\"             #Australia (Melbourne)\n",
        "}\n",
        "\n",
        "print(\"RTT promedio a universidades por continente:\\n\")\n",
        "\n",
        "for continente, host in universidades.items():\n",
        "    print(f\"{continente} - {host}\")\n",
        "    rtt_prom = hacer_ping(host, count=5)\n",
        "    if rtt_prom is not None:\n",
        "        print(f\"RTT promedio: {rtt_prom:.2f} ms\\n\")\n",
        "    else:\n",
        "        print(\"No se recibió respuesta válida\\n\")"
      ]
    },
    {
      "cell_type": "markdown",
      "id": "de324092",
      "metadata": {},
      "source": [
        "### Ejercicio 4a\n",
        "\n",
        "### Análisis de resultados:\n",
        "\n",
        "Se observaron diferencias significativas en los RTT medidos. Los tiempos más bajos correspondieron a universidades geográficamente cercanas (UBA y MIT), mientras que los más altos se registraron en universidades ubicadas en Asia y Oceanía.  \n",
        "Estas diferencias pueden deberse principalmente a:\n",
        "\n",
        "- La **distancia geográfica** entre el host de origen y el servidor de destino.\n",
        "- La **cantidad de saltos intermedios (routers)** que deben atravesar los paquetes.\n",
        "- Las **condiciones de la red** en cada región y la calidad de los enlaces internacionales.\n",
        "- La **respuesta del propio servidor** (algunas universidades pueden tener filtros o configuraciones que afectan los RTT).\n"
      ]
    },
    {
      "cell_type": "code",
      "execution_count": 14,
      "id": "798010ff",
      "metadata": {},
      "outputs": [
        {
          "data": {
            "image/png": "[encoded data removed]",
            "text/plain": [
              "<Figure size 1000x600 with 1 Axes>"
            ]
          },
          "metadata": {},
          "output_type": "display_data"
        },
        {
          "data": {
            "image/png": "[encoded data removed]",
            "text/plain": [
              "<Figure size 1000x600 with 1 Axes>"
            ]
          },
          "metadata": {},
          "output_type": "display_data"
        }
      ],
      "source": [
        "import pandas as pd\n",
        "import matplotlib.pyplot as plt\n",
        "import seaborn as sns\n",
        "import numpy as np\n",
        "\n",
        "# Resultados obtenidos en WINDOWS\n",
        "comparacionW = [\n",
        "    {\"Continente\": \"América del Norte\", \"Universidad\": \"web.mit.edu\", \"RTT Scapy\":14.72, \"RTT Sistema\": 6},\n",
        "    {\"Continente\": \"América del Sur\", \"Universidad\": \"utdt.edu\", \"RTT Scapy\": 10.75, \"RTT Sistema\": 9},\n",
        "    {\"Continente\": \"Europa\", \"Universidad\": \"ox.ac.uk\", \"RTT Scapy\": 17.60, \"RTT Sistema\": 6},\n",
        "    {\"Continente\": \"Asia\", \"Universidad\": \"en.sjtu.edu.cn\", \"RTT Scapy\": 485.42, \"RTT Sistema\": 559},\n",
        "    {\"Continente\": \"Oceanía\", \"Universidad\": \"unimelb.edu.au\", \"RTT Scapy\": 8.31, \"RTT Sistema\": 4},\n",
        "]\n",
        "\n",
        "df = pd.DataFrame(comparacionW)\n",
        "\n",
        "# Aplicamos logaritmo base 10 a los valores de RTT\n",
        "df[\"RTT Scapy\"] = np.log10(df[\"RTT Scapy\"])\n",
        "df[\"RTT Sistema\"] = np.log10(df[\"RTT Sistema\"])\n",
        "\n",
        "# Gráfico comparativo (escala logarítmica)\n",
        "df_melted = df.melt(id_vars=[\"Continente\", \"Universidad\"], value_vars=[\"RTT Scapy\", \"RTT Sistema\"],\n",
        "                    var_name=\"Fuente\", value_name=\"log10 RTT promedio (ms)\")\n",
        "\n",
        "plt.figure(figsize=(10, 6))\n",
        "sns.barplot(data=df_melted, x=\"Continente\", y=\"log10 RTT promedio (ms)\", hue=\"Fuente\")\n",
        "plt.title(\"Comparación de RTT promedio: Scapy vs Sistema (escala logarítmica) en Windows\")\n",
        "plt.ylabel(\"log10 RTT promedio (ms)\")\n",
        "plt.xticks(rotation=15)\n",
        "plt.tight_layout()\n",
        "plt.show()\n",
        "\n",
        "\n",
        "\n",
        "\n",
        "# Resultados obtenidos en MACBOOK\n",
        "comparacionM = [\n",
        "    {\"Continente\": \"América del Norte\", \"Universidad\": \"web.mit.edu\", \"RTT Scapy\":19.61, \"RTT Sistema\": 20.60 },\n",
        "    {\"Continente\": \"América del Sur\", \"Universidad\": \"utdt.edu\", \"RTT Scapy\": 11.6, \"RTT Sistema\": 11.06},\n",
        "    {\"Continente\": \"Europa\", \"Universidad\": \"ox.ac.uk\", \"RTT Scapy\": 14.35, \"RTT Sistema\": 9.29},\n",
        "    {\"Continente\": \"Asia\", \"Universidad\": \"en.sjtu.edu.cn\", \"RTT Scapy\":472.38 , \"RTT Sistema\": 487.84},\n",
        "    {\"Continente\": \"Oceanía\", \"Universidad\": \"unimelb.edu.au\", \"RTT Scapy\": 14.84, \"RTT Sistema\": 7.35},\n",
        "]\n",
        "\n",
        "df = pd.DataFrame(comparacionM)\n",
        "\n",
        "# Aplicamos logaritmo base 10 a los valores de RTT\n",
        "df[\"RTT Scapy\"] = np.log10(df[\"RTT Scapy\"])\n",
        "df[\"RTT Sistema\"] = np.log10(df[\"RTT Sistema\"])\n",
        "\n",
        "# Gráfico comparativo (escala logarítmica)\n",
        "df_melted = df.melt(id_vars=[\"Continente\", \"Universidad\"], value_vars=[\"RTT Scapy\", \"RTT Sistema\"],\n",
        "                    var_name=\"Fuente\", value_name=\"log10 RTT promedio (ms)\")\n",
        "\n",
        "plt.figure(figsize=(10, 6))\n",
        "sns.barplot(data=df_melted, x=\"Continente\", y=\"log10 RTT promedio (ms)\", hue=\"Fuente\")\n",
        "plt.title(\"Comparación de RTT promedio: Scapy vs Sistema (escala logarítmica) en Windows\")\n",
        "plt.ylabel(\"log10 RTT promedio (ms)\")\n",
        "plt.xticks(rotation=15)\n",
        "plt.tight_layout()\n",
        "plt.show()\n"
      ]
    }
  ],
  "metadata": {
    "accelerator": "GPU",
    "colab": {
      "gpuType": "T4",
      "provenance": []
    },
    "kernelspec": {
      "display_name": "base",
      "language": "python",
      "name": "python3"
    },
    "language_info": {
      "codemirror_mode": {
        "name": "ipython",
        "version": 3
      },
      "file_extension": ".py",
      "mimetype": "text/x-python",
      "name": "python",
      "nbconvert_exporter": "python",
      "pygments_lexer": "ipython3",
      "version": "3.12.5"
    }
  },
  "nbformat": 4,
  "nbformat_minor": 5
}
